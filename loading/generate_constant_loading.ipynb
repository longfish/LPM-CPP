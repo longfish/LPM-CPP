{
 "cells": [
  {
   "cell_type": "code",
   "execution_count": 1,
   "metadata": {},
   "outputs": [],
   "source": [
    "import numpy as np"
   ]
  },
  {
   "cell_type": "code",
   "execution_count": 2,
   "metadata": {},
   "outputs": [],
   "source": [
    "# loading of Al 7075-T6 CT specimen\n",
    "# hi_value = str(2000/5)\n",
    "# low_value = str(2000/5*0.1)\n",
    "\n",
    "# f = open(\"force_ca_Al7075R0.1.txt\", \"w\")\n",
    "# f.write(low_value+\"\\n\")\n",
    "# for i in range(100000):\n",
    "#     f.write(hi_value+\"\\n\")\n",
    "#     f.write(low_value+\"\\n\")\n",
    "\n",
    "# f.close()"
   ]
  },
  {
   "cell_type": "code",
   "execution_count": 3,
   "metadata": {},
   "outputs": [],
   "source": [
    "# loading of Al 7075-T6 gage specimen\n",
    "# hi_value = str(0.043927)\n",
    "# low_value = str(0)\n",
    "\n",
    "# f = open(\"disp_ca_R0_gage.txt\", \"w\")\n",
    "# f.write(low_value+\"\\n\")\n",
    "# for i in range(1000000):\n",
    "#     f.write(hi_value+\"\\n\")\n",
    "#     f.write(low_value+\"\\n\")\n",
    "\n",
    "# f.close()"
   ]
  },
  {
   "cell_type": "code",
   "execution_count": 4,
   "metadata": {},
   "outputs": [],
   "source": [
    "# loading of Al 7075-T6 CT specimen for calibration\n",
    "hi_value = str(2500/5)\n",
    "low_value = str(250/5)\n",
    "\n",
    "f = open(\"force_ca_R0.1_calib.txt\", \"w\")\n",
    "f.write(low_value+\"\\n\")\n",
    "for i in range(100000):\n",
    "    f.write(hi_value+\"\\n\")\n",
    "    f.write(low_value+\"\\n\")\n",
    "\n",
    "f.close()"
   ]
  }
 ],
 "metadata": {
  "kernelspec": {
   "display_name": "base",
   "language": "python",
   "name": "python3"
  },
  "language_info": {
   "codemirror_mode": {
    "name": "ipython",
    "version": 3
   },
   "file_extension": ".py",
   "mimetype": "text/x-python",
   "name": "python",
   "nbconvert_exporter": "python",
   "pygments_lexer": "ipython3",
   "version": "3.9.7"
  },
  "orig_nbformat": 4
 },
 "nbformat": 4,
 "nbformat_minor": 2
}
