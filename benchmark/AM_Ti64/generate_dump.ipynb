{
 "cells": [
  {
   "cell_type": "code",
   "execution_count": 1,
   "metadata": {},
   "outputs": [],
   "source": [
    "import numpy as np\n",
    "from PIL import Image\n",
    "import matplotlib.pyplot as plt"
   ]
  },
  {
   "cell_type": "code",
   "execution_count": 2,
   "metadata": {},
   "outputs": [],
   "source": [
    "sample = 'G6a' # 'G5v', 'G6a', 'Y6v', 'Y6a'\n",
    "# im = Image.open(sample+'_XZ_128_new.tif')\n",
    "im = Image.open(sample+'_XZ_256.tif')\n",
    "# im = Image.open('amga6__rec00001201_yz_select280_erode+dilate.tif')\n",
    "imarray = np.array(im)"
   ]
  },
  {
   "cell_type": "code",
   "execution_count": 3,
   "metadata": {},
   "outputs": [
    {
     "data": {
      "image/png": "[encoded data removed]",
      "text/plain": [
       "<Figure size 640x480 with 2 Axes>"
      ]
     },
     "metadata": {},
     "output_type": "display_data"
    }
   ],
   "source": [
    "def plot_image(img):\n",
    "    fig = plt.figure()\n",
    "    im1 = plt.imshow(img)\n",
    "    plt.axis('off')\n",
    "    plt.colorbar(im1)\n",
    "\n",
    "plot_image(imarray)"
   ]
  },
  {
   "cell_type": "code",
   "execution_count": 4,
   "metadata": {},
   "outputs": [],
   "source": [
    "def createPlate(img):\n",
    "    '''The input img should be binary'''\n",
    "    PIXEL = 0.0061  # mm\n",
    "    radius = PIXEL/2\n",
    "    nrows, ncols = img.shape[0], img.shape[1]\n",
    "    img_size_x = ncols * PIXEL\n",
    "    img_size_y = nrows * PIXEL\n",
    "    box = [[0, img_size_x], [0, img_size_y], [0, 1]]\n",
    "    xyz = []\n",
    "    for j in range(nrows):\n",
    "        y = img_size_y - (radius + PIXEL*j)\n",
    "        for i in range(ncols):\n",
    "            x = radius + PIXEL*i\n",
    "            if (img[j][i] == 255):\n",
    "                xyz.append([x, y, 0])\n",
    "\n",
    "    return xyz, box\n",
    "\n",
    "\n",
    "xyz, box = createPlate(imarray)"
   ]
  },
  {
   "cell_type": "code",
   "execution_count": 5,
   "metadata": {},
   "outputs": [
    {
     "data": {
      "text/plain": [
       "59590"
      ]
     },
     "execution_count": 5,
     "metadata": {},
     "output_type": "execute_result"
    }
   ],
   "source": [
    "len(xyz)"
   ]
  },
  {
   "cell_type": "code",
   "execution_count": 6,
   "metadata": {},
   "outputs": [],
   "source": [
    "def writeDump(dumpFile, xyz, box):\n",
    "    fpt = open(dumpFile, \"w\")\n",
    "\n",
    "    fpt.write(\"ITEM: TIMESTEP\\n\")\n",
    "    fpt.write(\"0\\n\")\n",
    "    fpt.write(\"ITEM: NUMBER OF ATOMS\\n\")\n",
    "    fpt.write(\"{0}\\n\".format(len(xyz)))\n",
    "    fpt.write(\"ITEM: BOX BOUNDS pp pp pp\\n\")\n",
    "    fpt.write(\"{0:8.8f} {1:8.8f}\\n\".format(box[0][0], box[0][1]))\n",
    "    fpt.write(\"{0:8.8f} {1:8.8f}\\n\".format(box[1][0], box[1][1]))\n",
    "    fpt.write(\"{0:8.8f} {1:8.8f}\\n\".format(box[2][0], box[2][1]))\n",
    "\n",
    "    fpt.write(\"ITEM: ATOMS id type x y z\\n\")\n",
    "    for k in range(len(xyz)):\n",
    "        fpt.write(\"{0} {1} {2:.4e} {3:.4e} {4:.4e} \\n\".format(k, 0,\n",
    "                xyz[k][0], xyz[k][1], xyz[k][2]))\n",
    "\n",
    "\n",
    "writeDump(sample+'_critical_site.dump', xyz, box)"
   ]
  }
 ],
 "metadata": {
  "kernelspec": {
   "display_name": "Python 3",
   "language": "python",
   "name": "python3"
  },
  "language_info": {
   "codemirror_mode": {
    "name": "ipython",
    "version": 3
   },
   "file_extension": ".py",
   "mimetype": "text/x-python",
   "name": "python",
   "nbconvert_exporter": "python",
   "pygments_lexer": "ipython3",
   "version": "3.10.8 (main, Nov 24 2022, 14:13:03) [GCC 11.2.0]"
  },
  "orig_nbformat": 4,
  "vscode": {
   "interpreter": {
    "hash": "dd48361bff80ea39874b59524d4b155fb6d795e83878696713cdb743d5c15d80"
   }
  }
 },
 "nbformat": 4,
 "nbformat_minor": 2
}
